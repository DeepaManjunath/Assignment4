{
  "nbformat": 4,
  "nbformat_minor": 0,
  "metadata": {
    "colab": {
      "name": "Untitled39.ipynb",
      "provenance": [],
      "include_colab_link": true
    },
    "kernelspec": {
      "name": "python3",
      "display_name": "Python 3"
    },
    "accelerator": "GPU"
  },
  "cells": [
    {
      "cell_type": "markdown",
      "metadata": {
        "id": "view-in-github",
        "colab_type": "text"
      },
      "source": [
        "<a href=\"https://colab.research.google.com/github/DeepaManjunath/Assignment4/blob/master/Untitled39.ipynb\" target=\"_parent\"><img src=\"https://colab.research.google.com/assets/colab-badge.svg\" alt=\"Open In Colab\"/></a>"
      ]
    },
    {
      "cell_type": "code",
      "metadata": {
        "id": "Qbng94JAk3AY",
        "colab_type": "code",
        "colab": {}
      },
      "source": [
        ""
      ],
      "execution_count": 0,
      "outputs": []
    },
    {
      "cell_type": "code",
      "metadata": {
        "id": "hfQCJlAiI5Gg",
        "colab_type": "code",
        "colab": {}
      },
      "source": [
        ""
      ],
      "execution_count": 0,
      "outputs": []
    },
    {
      "cell_type": "code",
      "metadata": {
        "id": "PV5KhiZhK7ws",
        "colab_type": "code",
        "colab": {}
      },
      "source": [
        ""
      ],
      "execution_count": 0,
      "outputs": []
    },
    {
      "cell_type": "code",
      "metadata": {
        "id": "0ZlyjRtJIyUl",
        "colab_type": "code",
        "colab": {}
      },
      "source": [
        ""
      ],
      "execution_count": 0,
      "outputs": []
    },
    {
      "cell_type": "code",
      "metadata": {
        "id": "PRV9Uh2ZR0dG",
        "colab_type": "code",
        "colab": {}
      },
      "source": [
        ""
      ],
      "execution_count": 0,
      "outputs": []
    },
    {
      "cell_type": "code",
      "metadata": {
        "id": "r_SdERZN9gvt",
        "colab_type": "code",
        "colab": {}
      },
      "source": [
        ""
      ],
      "execution_count": 0,
      "outputs": []
    },
    {
      "cell_type": "code",
      "metadata": {
        "id": "E1RB69eK5GeP",
        "colab_type": "code",
        "colab": {}
      },
      "source": [
        ""
      ],
      "execution_count": 0,
      "outputs": []
    },
    {
      "cell_type": "code",
      "metadata": {
        "id": "NSDNAgR8y_no",
        "colab_type": "code",
        "outputId": "cfb5fe64-4bbc-4d42-f075-c92daa942abe",
        "colab": {
          "base_uri": "https://localhost:8080/",
          "height": 81
        }
      },
      "source": [
        "from __future__ import print_function\n",
        "import keras\n",
        "from keras.layers import Dense, Conv2D, BatchNormalization, Activation , Dropout\n",
        "from keras.layers import AveragePooling2D, Input, Flatten ,GlobalAveragePooling2D\n",
        "from keras.optimizers import Adam\n",
        "from keras.callbacks import ModelCheckpoint,LearningRateScheduler\n",
        "from keras.callbacks import ReduceLROnPlateau\n",
        "from keras.preprocessing.image import ImageDataGenerator\n",
        "from keras.regularizers import l2\n",
        "from keras import backend as K\n",
        "from keras.models import Model\n",
        "from keras.datasets import cifar10\n",
        "import numpy as np\n",
        "import os\n"
      ],
      "execution_count": 1,
      "outputs": [
        {
          "output_type": "stream",
          "text": [
            "Using TensorFlow backend.\n"
          ],
          "name": "stderr"
        },
        {
          "output_type": "display_data",
          "data": {
            "text/html": [
              "<p style=\"color: red;\">\n",
              "The default version of TensorFlow in Colab will soon switch to TensorFlow 2.x.<br>\n",
              "We recommend you <a href=\"https://www.tensorflow.org/guide/migrate\" target=\"_blank\">upgrade</a> now \n",
              "or ensure your notebook will continue to use TensorFlow 1.x via the <code>%tensorflow_version 1.x</code> magic:\n",
              "<a href=\"https://colab.research.google.com/notebooks/tensorflow_version.ipynb\" target=\"_blank\">more info</a>.</p>\n"
            ],
            "text/plain": [
              "<IPython.core.display.HTML object>"
            ]
          },
          "metadata": {
            "tags": []
          }
        }
      ]
    },
    {
      "cell_type": "code",
      "metadata": {
        "colab_type": "code",
        "id": "nLlRKw5H9n8w",
        "colab": {}
      },
      "source": [
        ""
      ],
      "execution_count": 0,
      "outputs": []
    },
    {
      "cell_type": "code",
      "metadata": {
        "colab_type": "code",
        "id": "43sCIR659n86",
        "colab": {}
      },
      "source": [
        ""
      ],
      "execution_count": 0,
      "outputs": []
    },
    {
      "cell_type": "code",
      "metadata": {
        "colab_type": "code",
        "id": "mcxJ-irc9n9I",
        "colab": {}
      },
      "source": [
        "batch_size = 128  # orig paper trained all networks with batch_size=128\n",
        "epochs = 50\n",
        "data_augmentation = True\n",
        "num_classes = 10\n"
      ],
      "execution_count": 0,
      "outputs": []
    },
    {
      "cell_type": "code",
      "metadata": {
        "colab_type": "code",
        "id": "Y3vK-Nvq9n9O",
        "colab": {}
      },
      "source": [
        "#Subtracting pixel mean improves accuracy\n",
        "subtract_pixel_mean = True\n",
        "\n",
        "# Model parameter\n",
        "# ----------------------------------------------------------------------------\n",
        "#           |      | 200-epoch | Orig Paper| 200-epoch | Orig Paper| sec/epoch\n",
        "# Model     |  n   | ResNet v1 | ResNet v1 | ResNet v2 | ResNet v2 | GTX1080Ti\n",
        "#           |v1(v2)| %Accuracy | %Accuracy | %Accuracy | %Accuracy | v1 (v2)\n",
        "# ----------------------------------------------------------------------------\n",
        "# ResNet20  | 3 (2)| 92.16     | 91.25     | -----     | -----     | 35 (---)\n",
        "# ResNet32  | 5(NA)| 92.46     | 92.49     | NA        | NA        | 50 ( NA)\n",
        "# ResNet44  | 7(NA)| 92.50     | 92.83     | NA        | NA        | 70 ( NA)\n",
        "# ResNet56  | 9 (6)| 92.71     | 93.03     | 93.01     | NA        | 90 (100)\n",
        "# ResNet110 |18(12)| 92.65     | 93.39+-.16| 93.15     | 93.63     | 165(180)\n",
        "# ResNet164 |27(18)| -----     | 94.07     | -----     | 94.54     | ---(---)\n",
        "# ResNet1001| (111)| -----     | 92.39     | -----     | 95.08+-.14| ---(---)\n",
        "# ---------------------------------------------------------------------------\n",
        "n = 2\n"
      ],
      "execution_count": 0,
      "outputs": []
    },
    {
      "cell_type": "code",
      "metadata": {
        "colab_type": "code",
        "id": "uw-fdEV39n9S",
        "outputId": "78c80399-5ce1-4670-d1ce-3063da65d99a",
        "colab": {
          "base_uri": "https://localhost:8080/",
          "height": 52
        }
      },
      "source": [
        "#Model version\n",
        "# Orig paper: version = 1 (ResNet v1), Improved ResNet: version = 2 (ResNet v2)\n",
        "version = 1\n",
        "\n",
        "# Computed depth from supplied model parameter n\n",
        "if version == 1:\n",
        "    depth = n * 6 + 2\n",
        "elif version == 2:\n",
        "    depth = n * 9 + 2\n",
        "\n",
        "# Model name, depth and version\n",
        "model_type = 'ResNet%dv%d' % (depth, version)\n",
        "\n",
        "# Load the CIFAR10 data.\n",
        "(x_train, y_train), (x_test, y_test) = cifar10.load_data()"
      ],
      "execution_count": 4,
      "outputs": [
        {
          "output_type": "stream",
          "text": [
            "Downloading data from https://www.cs.toronto.edu/~kriz/cifar-10-python.tar.gz\n",
            "170500096/170498071 [==============================] - 6s 0us/step\n"
          ],
          "name": "stdout"
        }
      ]
    },
    {
      "cell_type": "code",
      "metadata": {
        "colab_type": "code",
        "outputId": "eed70bfc-bbbd-492e-b00c-46e2bb661453",
        "id": "Qjy8MMTY9n9Y",
        "colab": {
          "base_uri": "https://localhost:8080/",
          "height": 87
        }
      },
      "source": [
        "#Input image dimensions.\n",
        "input_shape = x_train.shape[1:]\n",
        "\n",
        "# Normalize data.\n",
        "x_train = x_train.astype('float32') / 255\n",
        "x_test = x_test.astype('float32') / 255\n",
        "\n",
        "# If subtract pixel mean is enabled\n",
        "if subtract_pixel_mean:\n",
        "    x_train_mean = np.mean(x_train, axis=0)\n",
        "    x_train -= x_train_mean\n",
        "    x_test -= x_train_mean\n",
        "\n",
        "print('x_train shape:', x_train.shape)\n",
        "print(x_train.shape[0], 'train samples')\n",
        "print(x_test.shape[0], 'test samples')\n",
        "print('y_train shape:', y_train.shape)\n",
        "\n",
        "# Convert class vectors to binary class matrices.\n",
        "y_train = keras.utils.to_categorical(y_train, num_classes)\n",
        "y_test = keras.utils.to_categorical(y_test, num_classes)\n"
      ],
      "execution_count": 5,
      "outputs": [
        {
          "output_type": "stream",
          "text": [
            "x_train shape: (50000, 32, 32, 3)\n",
            "50000 train samples\n",
            "10000 test samples\n",
            "y_train shape: (50000, 1)\n"
          ],
          "name": "stdout"
        }
      ]
    },
    {
      "cell_type": "code",
      "metadata": {
        "colab_type": "code",
        "id": "kLB-dmkh9n9e",
        "colab": {}
      },
      "source": [
        "def lr_schedule(epoch):\n",
        "    \"\"\"Learning Rate Schedule\n",
        "\n",
        "    Learning rate is scheduled to be reduced after 80, 120, 160, 180 epochs.\n",
        "    Called automatically every epoch as part of callbacks during training.\n",
        "\n",
        "    # Arguments\n",
        "        epoch (int): The number of epochs\n",
        "\n",
        "    # Returns\n",
        "        lr (float32): learning rate\n",
        "    \"\"\"\n",
        "    \n",
        "    lr = 1e-3\n",
        "    #if epoch > 40:\n",
        "     #   lr *= le-1\n",
        "    #elif epoch > 30:\n",
        "     #   lr *= 1e-2\n",
        "    #elif epoch > 20:\n",
        "     #   lr *= 1e-2\n",
        "    if epoch > 10:\n",
        "        lr *= 1e-1\n",
        "    print('Learning rate: ', lr)\n",
        "    return lr\n",
        "\n"
      ],
      "execution_count": 0,
      "outputs": []
    },
    {
      "cell_type": "code",
      "metadata": {
        "id": "yrU4E0UH-62I",
        "colab_type": "code",
        "colab": {}
      },
      "source": [
        "import numpy as np\n",
        "\n",
        "\n",
        "def get_random_eraser(p=0.5, s_l=0.02, s_h=0.4, r_1=0.3, r_2=1/0.3, v_l=0, v_h=255, pixel_level=False):\n",
        "    def eraser(input_img):\n",
        "        img_h, img_w, img_c = input_img.shape\n",
        "        p_1 = np.random.rand()\n",
        "\n",
        "        if p_1 > p:\n",
        "            return input_img\n",
        "\n",
        "        while True:\n",
        "            s = np.random.uniform(s_l, s_h) * img_h * img_w\n",
        "            r = np.random.uniform(r_1, r_2)\n",
        "            w = int(np.sqrt(s / r))\n",
        "            h = int(np.sqrt(s * r))\n",
        "            left = np.random.randint(0, img_w)\n",
        "            top = np.random.randint(0, img_h)\n",
        "\n",
        "            if left + w <= img_w and top + h <= img_h:\n",
        "                break\n",
        "\n",
        "        if pixel_level:\n",
        "            c = np.random.uniform(v_l, v_h, (h, w, img_c))\n",
        "        else:\n",
        "            c = np.random.uniform(v_l, v_h)\n",
        "\n",
        "        input_img[top:top + h, left:left + w, :] = c\n",
        "\n",
        "        return input_img\n",
        "\n",
        "    return eraser\n"
      ],
      "execution_count": 0,
      "outputs": []
    },
    {
      "cell_type": "code",
      "metadata": {
        "colab_type": "code",
        "id": "lkPD2HuQ9n9h",
        "colab": {}
      },
      "source": [
        "def resnet_layer(inputs,\n",
        "                 num_filters=32,\n",
        "                 kernel_size=3,\n",
        "                 strides=1,\n",
        "                 activation='relu',\n",
        "                 batch_normalization=True,\n",
        "                 conv_first=True):\n",
        "    \"\"\"2D Convolution-Batch Normalization-Activation stack builder\n",
        "\n",
        "    # Arguments\n",
        "        inputs (tensor): input tensor from input image or previous layer\n",
        "        num_filters (int): Conv2D number of filters\n",
        "        kernel_size (int): Conv2D square kernel dimensions\n",
        "        strides (int): Conv2D square stride dimensions\n",
        "        activation (string): activation name\n",
        "        batch_normalization (bool): whether to include batch normalization\n",
        "        conv_first (bool): conv-bn-activation (True) or\n",
        "            bn-activation-conv (False)\n",
        "\n",
        "    # Returns\n",
        "        x (tensor): tensor as input to the next layer\n",
        "    \"\"\"\n",
        "    conv = Conv2D(num_filters,\n",
        "                  kernel_size=kernel_size,\n",
        "                  strides=strides,\n",
        "                  padding='same',\n",
        "                  kernel_initializer='he_normal',\n",
        "                  kernel_regularizer=l2(1e-4))\n",
        "\n",
        "    x = inputs\n",
        "    if conv_first:\n",
        "        x = conv(x)\n",
        "        if batch_normalization:\n",
        "            x = BatchNormalization(momentum=0.355)(x)\n",
        "            x=Dropout(0.0994)(x)\n",
        "          #  x=Dropout(0.13)(x)\n",
        "        if activation is not None:\n",
        "            x = Activation(activation)(x)\n",
        "    else:\n",
        "        if batch_normalization:\n",
        "            x = BatchNormalization(momentum=0.355)(x)\n",
        "            x=Dropout(0.0994)(x)\n",
        "        if activation is not None:\n",
        "            x = Activation(activation)(x)\n",
        "        x = conv(x)\n",
        "    return x\n"
      ],
      "execution_count": 0,
      "outputs": []
    },
    {
      "cell_type": "code",
      "metadata": {
        "colab_type": "code",
        "id": "ecHQg-IH9n9k",
        "colab": {}
      },
      "source": [
        "def resnet_v1(input_shape, depth, num_classes=10):\n",
        "    \"\"\"ResNet Version 1 Model builder [a]\n",
        "\n",
        "    Stacks of 2 x (3 x 3) Conv2D-BN-ReLU\n",
        "    Last ReLU is after the shortcut connection.\n",
        "    At the beginning of each stage, the feature map size is halved (downsampled)\n",
        "    by a convolutional layer with strides=2, while the number of filters is\n",
        "    doubled. Within each stage, the layers have the same number filters and the\n",
        "    same number of filters.\n",
        "    Features maps sizes:\n",
        "    stage 0: 32x32, 16\n",
        "    stage 1: 16x16, 32\n",
        "    stage 2:  8x8,  64\n",
        "    The Number of parameters is approx the same as Table 6 of [a]:\n",
        "    ResNet20 0.27M\n",
        "    ResNet32 0.46M\n",
        "    ResNet44 0.66M\n",
        "    ResNet56 0.85M\n",
        "    ResNet110 1.7M\n",
        "\n",
        "    # Arguments\n",
        "        input_shape (tensor): shape of input image tensor\n",
        "        depth (int): number of core convolutional layers\n",
        "        num_classes (int): number of classes (CIFAR10 has 10)\n",
        "\n",
        "    # Returns\n",
        "        model (Model): Keras model instance\n",
        "    \"\"\"\n",
        "    if (depth - 2) % 6 != 0:\n",
        "        raise ValueError('depth should be 6n+2 (eg 20, 32, 44 in [a])')\n",
        "    # Start model definition.\n",
        "    num_filters = 32\n",
        "    num_res_blocks = int((depth - 2) / 6)\n",
        "\n",
        "    inputs = Input(shape=input_shape)\n",
        "    x = resnet_layer(inputs=inputs)\n",
        "    # Instantiate the stack of residual units\n",
        "    for stack in range(3):\n",
        "        for res_block in range(num_res_blocks):\n",
        "            strides = 1\n",
        "            if stack > 0 and res_block == 0:  # first layer but not first stack\n",
        "                strides = 2  # downsample\n",
        "            y = resnet_layer(inputs=x,\n",
        "                             num_filters=num_filters,\n",
        "                             strides=strides)\n",
        "            y = resnet_layer(inputs=y,\n",
        "                             num_filters=num_filters,\n",
        "                             activation=None)\n",
        "            if stack > 0 and res_block == 0:  # first layer but not first stack\n",
        "                # linear projection residual shortcut connection to match\n",
        "                # changed dims\n",
        "                x = resnet_layer(inputs=x,\n",
        "                                 num_filters=num_filters,\n",
        "                                 kernel_size=1,\n",
        "                                 strides=strides,\n",
        "                                 activation=None,\n",
        "                                 batch_normalization=False)\n",
        "            x = keras.layers.add([x, y])\n",
        "            x = Activation('relu')(x)\n",
        "        num_filters *= 2\n",
        "\n",
        "    # Add classifier on top.\n",
        "    # v1 does not use BN after last shortcut connection-ReLU\n",
        "   # x = AveragePooling2D(pool_size=4)(x)\n",
        "    y = GlobalAveragePooling2D()(x)\n",
        "    #outputs=Activation('softmax')(y)\n",
        "    outputs = Dense(num_classes,\n",
        "                    activation='softmax',\n",
        "                    kernel_initializer='he_normal')(y)\n",
        "\n",
        "    # Instantiate model.\n",
        "    model = Model(inputs=inputs, outputs=outputs)\n",
        "    return model\n"
      ],
      "execution_count": 0,
      "outputs": []
    },
    {
      "cell_type": "code",
      "metadata": {
        "colab_type": "code",
        "outputId": "7aa1851c-4f9a-4626-d1d6-7ca621a1ae61",
        "id": "2VCj_dWX9n9q",
        "colab": {
          "base_uri": "https://localhost:8080/",
          "height": 1000
        }
      },
      "source": [
        "\n",
        "if version == 1:\n",
        "    \n",
        "    model = resnet_v1(input_shape=input_shape, depth=depth)\n",
        "\n",
        "model.compile(loss='categorical_crossentropy',\n",
        "              optimizer=Adam(lr=lr_schedule(0)),\n",
        "              metrics=['accuracy'])\n",
        "model.summary()\n",
        "print(model_type)"
      ],
      "execution_count": 16,
      "outputs": [
        {
          "output_type": "stream",
          "text": [
            "Learning rate:  0.001\n",
            "WARNING:tensorflow:From /usr/local/lib/python3.6/dist-packages/keras/optimizers.py:793: The name tf.train.Optimizer is deprecated. Please use tf.compat.v1.train.Optimizer instead.\n",
            "\n",
            "WARNING:tensorflow:From /usr/local/lib/python3.6/dist-packages/keras/backend/tensorflow_backend.py:3576: The name tf.log is deprecated. Please use tf.math.log instead.\n",
            "\n",
            "Model: \"model_5\"\n",
            "__________________________________________________________________________________________________\n",
            "Layer (type)                    Output Shape         Param #     Connected to                     \n",
            "==================================================================================================\n",
            "input_5 (InputLayer)            (None, 32, 32, 3)    0                                            \n",
            "__________________________________________________________________________________________________\n",
            "conv2d_61 (Conv2D)              (None, 32, 32, 32)   896         input_5[0][0]                    \n",
            "__________________________________________________________________________________________________\n",
            "batch_normalization_53 (BatchNo (None, 32, 32, 32)   128         conv2d_61[0][0]                  \n",
            "__________________________________________________________________________________________________\n",
            "dropout_53 (Dropout)            (None, 32, 32, 32)   0           batch_normalization_53[0][0]     \n",
            "__________________________________________________________________________________________________\n",
            "activation_53 (Activation)      (None, 32, 32, 32)   0           dropout_53[0][0]                 \n",
            "__________________________________________________________________________________________________\n",
            "conv2d_62 (Conv2D)              (None, 32, 32, 32)   9248        activation_53[0][0]              \n",
            "__________________________________________________________________________________________________\n",
            "batch_normalization_54 (BatchNo (None, 32, 32, 32)   128         conv2d_62[0][0]                  \n",
            "__________________________________________________________________________________________________\n",
            "dropout_54 (Dropout)            (None, 32, 32, 32)   0           batch_normalization_54[0][0]     \n",
            "__________________________________________________________________________________________________\n",
            "activation_54 (Activation)      (None, 32, 32, 32)   0           dropout_54[0][0]                 \n",
            "__________________________________________________________________________________________________\n",
            "conv2d_63 (Conv2D)              (None, 32, 32, 32)   9248        activation_54[0][0]              \n",
            "__________________________________________________________________________________________________\n",
            "batch_normalization_55 (BatchNo (None, 32, 32, 32)   128         conv2d_63[0][0]                  \n",
            "__________________________________________________________________________________________________\n",
            "dropout_55 (Dropout)            (None, 32, 32, 32)   0           batch_normalization_55[0][0]     \n",
            "__________________________________________________________________________________________________\n",
            "add_25 (Add)                    (None, 32, 32, 32)   0           activation_53[0][0]              \n",
            "                                                                 dropout_55[0][0]                 \n",
            "__________________________________________________________________________________________________\n",
            "activation_55 (Activation)      (None, 32, 32, 32)   0           add_25[0][0]                     \n",
            "__________________________________________________________________________________________________\n",
            "conv2d_64 (Conv2D)              (None, 32, 32, 32)   9248        activation_55[0][0]              \n",
            "__________________________________________________________________________________________________\n",
            "batch_normalization_56 (BatchNo (None, 32, 32, 32)   128         conv2d_64[0][0]                  \n",
            "__________________________________________________________________________________________________\n",
            "dropout_56 (Dropout)            (None, 32, 32, 32)   0           batch_normalization_56[0][0]     \n",
            "__________________________________________________________________________________________________\n",
            "activation_56 (Activation)      (None, 32, 32, 32)   0           dropout_56[0][0]                 \n",
            "__________________________________________________________________________________________________\n",
            "conv2d_65 (Conv2D)              (None, 32, 32, 32)   9248        activation_56[0][0]              \n",
            "__________________________________________________________________________________________________\n",
            "batch_normalization_57 (BatchNo (None, 32, 32, 32)   128         conv2d_65[0][0]                  \n",
            "__________________________________________________________________________________________________\n",
            "dropout_57 (Dropout)            (None, 32, 32, 32)   0           batch_normalization_57[0][0]     \n",
            "__________________________________________________________________________________________________\n",
            "add_26 (Add)                    (None, 32, 32, 32)   0           activation_55[0][0]              \n",
            "                                                                 dropout_57[0][0]                 \n",
            "__________________________________________________________________________________________________\n",
            "activation_57 (Activation)      (None, 32, 32, 32)   0           add_26[0][0]                     \n",
            "__________________________________________________________________________________________________\n",
            "conv2d_66 (Conv2D)              (None, 16, 16, 64)   18496       activation_57[0][0]              \n",
            "__________________________________________________________________________________________________\n",
            "batch_normalization_58 (BatchNo (None, 16, 16, 64)   256         conv2d_66[0][0]                  \n",
            "__________________________________________________________________________________________________\n",
            "dropout_58 (Dropout)            (None, 16, 16, 64)   0           batch_normalization_58[0][0]     \n",
            "__________________________________________________________________________________________________\n",
            "activation_58 (Activation)      (None, 16, 16, 64)   0           dropout_58[0][0]                 \n",
            "__________________________________________________________________________________________________\n",
            "conv2d_67 (Conv2D)              (None, 16, 16, 64)   36928       activation_58[0][0]              \n",
            "__________________________________________________________________________________________________\n",
            "batch_normalization_59 (BatchNo (None, 16, 16, 64)   256         conv2d_67[0][0]                  \n",
            "__________________________________________________________________________________________________\n",
            "conv2d_68 (Conv2D)              (None, 16, 16, 64)   2112        activation_57[0][0]              \n",
            "__________________________________________________________________________________________________\n",
            "dropout_59 (Dropout)            (None, 16, 16, 64)   0           batch_normalization_59[0][0]     \n",
            "__________________________________________________________________________________________________\n",
            "add_27 (Add)                    (None, 16, 16, 64)   0           conv2d_68[0][0]                  \n",
            "                                                                 dropout_59[0][0]                 \n",
            "__________________________________________________________________________________________________\n",
            "activation_59 (Activation)      (None, 16, 16, 64)   0           add_27[0][0]                     \n",
            "__________________________________________________________________________________________________\n",
            "conv2d_69 (Conv2D)              (None, 16, 16, 64)   36928       activation_59[0][0]              \n",
            "__________________________________________________________________________________________________\n",
            "batch_normalization_60 (BatchNo (None, 16, 16, 64)   256         conv2d_69[0][0]                  \n",
            "__________________________________________________________________________________________________\n",
            "dropout_60 (Dropout)            (None, 16, 16, 64)   0           batch_normalization_60[0][0]     \n",
            "__________________________________________________________________________________________________\n",
            "activation_60 (Activation)      (None, 16, 16, 64)   0           dropout_60[0][0]                 \n",
            "__________________________________________________________________________________________________\n",
            "conv2d_70 (Conv2D)              (None, 16, 16, 64)   36928       activation_60[0][0]              \n",
            "__________________________________________________________________________________________________\n",
            "batch_normalization_61 (BatchNo (None, 16, 16, 64)   256         conv2d_70[0][0]                  \n",
            "__________________________________________________________________________________________________\n",
            "dropout_61 (Dropout)            (None, 16, 16, 64)   0           batch_normalization_61[0][0]     \n",
            "__________________________________________________________________________________________________\n",
            "add_28 (Add)                    (None, 16, 16, 64)   0           activation_59[0][0]              \n",
            "                                                                 dropout_61[0][0]                 \n",
            "__________________________________________________________________________________________________\n",
            "activation_61 (Activation)      (None, 16, 16, 64)   0           add_28[0][0]                     \n",
            "__________________________________________________________________________________________________\n",
            "conv2d_71 (Conv2D)              (None, 8, 8, 128)    73856       activation_61[0][0]              \n",
            "__________________________________________________________________________________________________\n",
            "batch_normalization_62 (BatchNo (None, 8, 8, 128)    512         conv2d_71[0][0]                  \n",
            "__________________________________________________________________________________________________\n",
            "dropout_62 (Dropout)            (None, 8, 8, 128)    0           batch_normalization_62[0][0]     \n",
            "__________________________________________________________________________________________________\n",
            "activation_62 (Activation)      (None, 8, 8, 128)    0           dropout_62[0][0]                 \n",
            "__________________________________________________________________________________________________\n",
            "conv2d_72 (Conv2D)              (None, 8, 8, 128)    147584      activation_62[0][0]              \n",
            "__________________________________________________________________________________________________\n",
            "batch_normalization_63 (BatchNo (None, 8, 8, 128)    512         conv2d_72[0][0]                  \n",
            "__________________________________________________________________________________________________\n",
            "conv2d_73 (Conv2D)              (None, 8, 8, 128)    8320        activation_61[0][0]              \n",
            "__________________________________________________________________________________________________\n",
            "dropout_63 (Dropout)            (None, 8, 8, 128)    0           batch_normalization_63[0][0]     \n",
            "__________________________________________________________________________________________________\n",
            "add_29 (Add)                    (None, 8, 8, 128)    0           conv2d_73[0][0]                  \n",
            "                                                                 dropout_63[0][0]                 \n",
            "__________________________________________________________________________________________________\n",
            "activation_63 (Activation)      (None, 8, 8, 128)    0           add_29[0][0]                     \n",
            "__________________________________________________________________________________________________\n",
            "conv2d_74 (Conv2D)              (None, 8, 8, 128)    147584      activation_63[0][0]              \n",
            "__________________________________________________________________________________________________\n",
            "batch_normalization_64 (BatchNo (None, 8, 8, 128)    512         conv2d_74[0][0]                  \n",
            "__________________________________________________________________________________________________\n",
            "dropout_64 (Dropout)            (None, 8, 8, 128)    0           batch_normalization_64[0][0]     \n",
            "__________________________________________________________________________________________________\n",
            "activation_64 (Activation)      (None, 8, 8, 128)    0           dropout_64[0][0]                 \n",
            "__________________________________________________________________________________________________\n",
            "conv2d_75 (Conv2D)              (None, 8, 8, 128)    147584      activation_64[0][0]              \n",
            "__________________________________________________________________________________________________\n",
            "batch_normalization_65 (BatchNo (None, 8, 8, 128)    512         conv2d_75[0][0]                  \n",
            "__________________________________________________________________________________________________\n",
            "dropout_65 (Dropout)            (None, 8, 8, 128)    0           batch_normalization_65[0][0]     \n",
            "__________________________________________________________________________________________________\n",
            "add_30 (Add)                    (None, 8, 8, 128)    0           activation_63[0][0]              \n",
            "                                                                 dropout_65[0][0]                 \n",
            "__________________________________________________________________________________________________\n",
            "activation_65 (Activation)      (None, 8, 8, 128)    0           add_30[0][0]                     \n",
            "__________________________________________________________________________________________________\n",
            "global_average_pooling2d_5 (Glo (None, 128)          0           activation_65[0][0]              \n",
            "__________________________________________________________________________________________________\n",
            "dense_5 (Dense)                 (None, 10)           1290        global_average_pooling2d_5[0][0] \n",
            "==================================================================================================\n",
            "Total params: 699,210\n",
            "Trainable params: 697,354\n",
            "Non-trainable params: 1,856\n",
            "__________________________________________________________________________________________________\n",
            "ResNet14v1\n"
          ],
          "name": "stdout"
        }
      ]
    },
    {
      "cell_type": "code",
      "metadata": {
        "colab_type": "code",
        "id": "1dfb2s4N9n9t",
        "colab": {}
      },
      "source": [
        "# Prepare model model saving directory.\n",
        "save_dir = os.path.join(os.getcwd(), 'saved_models')\n",
        "model_name = 'cifar10_%s_model.{epoch:03d}.h5' % model_type\n",
        "if not os.path.isdir(save_dir):\n",
        "    os.makedirs(save_dir)\n",
        "filepath = os.path.join(save_dir, model_name)\n",
        "\n",
        "# Prepare callbacks for model saving and for learning rate adjustment.\n",
        "checkpoint = ModelCheckpoint(filepath=filepath,\n",
        "                             monitor='val_acc',\n",
        "                             verbose=2,\n",
        "                             save_best_only=True)\n",
        "\n",
        "lr_scheduler = LearningRateScheduler(lr_schedule)\n",
        "\n",
        "lr_reducer = ReduceLROnPlateau(factor=np.sqrt(0.1),\n",
        "                               cooldown=0,\n",
        "                               patience=5,\n",
        "                               min_lr=0.5e-6)\n",
        "\n",
        "callbacks = [checkpoint, lr_reducer, lr_scheduler]\n"
      ],
      "execution_count": 0,
      "outputs": []
    },
    {
      "cell_type": "code",
      "metadata": {
        "colab_type": "code",
        "outputId": "592e6b35-db55-42fd-cc85-f5d926fe3031",
        "id": "P2x4GwxB9n9u",
        "colab": {
          "base_uri": "https://localhost:8080/",
          "height": 35
        }
      },
      "source": [
        "#Run training, with or without data augmentation.\n",
        "if not data_augmentation:\n",
        "    print('Not using data augmentation.')\n",
        "    model.fit(x_train, y_train,\n",
        "              batch_size=batch_size,\n",
        "              epochs=epochs,\n",
        "              validation_data=(x_test, y_test),\n",
        "              shuffle=True,\n",
        "              callbacks=callbacks)\n",
        "else:\n",
        "    print('Using real-time data augmentation.')\n",
        "    get_random_eraser(v_l=0, v_h=1)\n",
        "    # This will do preprocessing and realtime data augmentation:\n",
        "    datagen = ImageDataGenerator(\n",
        "        \n",
        "       # get_random_eraser(v_l=0, v_h=1)\n",
        "        # set input mean to 0 over the dataset\n",
        "        featurewise_center=False,\n",
        "        # set each sample mean to 0\n",
        "        samplewise_center=False,\n",
        "        # divide inputs by std of dataset\n",
        "        featurewise_std_normalization=False,\n",
        "        # divide each input by its std\n",
        "        samplewise_std_normalization=False,\n",
        "        # apply ZCA whitening\n",
        "        zca_whitening=False,\n",
        "        # epsilon for ZCA whitening\n",
        "        zca_epsilon=1e-06,\n",
        "        # randomly rotate images in the range (deg 0 to 180)\n",
        "        rotation_range=0,\n",
        "        # randomly shift images horizontally\n",
        "        width_shift_range=0.1,\n",
        "        # randomly shift images vertically\n",
        "        height_shift_range=0.1,\n",
        "        # set range for random shear\n",
        "        shear_range=0.,\n",
        "        # set range for random zoom\n",
        "        zoom_range=0.,\n",
        "        # set range for random channel shifts\n",
        "        channel_shift_range=0.,\n",
        "        # set mode for filling points outside the input boundaries\n",
        "        fill_mode='nearest',\n",
        "        # value used for fill_mode = \"constant\"\n",
        "        cval=0.,\n",
        "        # randomly flip images\n",
        "        horizontal_flip=True,\n",
        "        # randomly flip images\n",
        "        vertical_flip=False,\n",
        "        # set rescaling factor (applied before any other transformation)\n",
        "        rescale=None,\n",
        "        # set function that will be applied on each input\n",
        "        preprocessing_function=None,\n",
        "        # image data format, either \"channels_first\" or \"channels_last\"\n",
        "        data_format=None,\n",
        "        # fraction of images reserved for validation (strictly between 0 and 1)\n",
        "        validation_split=0.0)"
      ],
      "execution_count": 17,
      "outputs": [
        {
          "output_type": "stream",
          "text": [
            "Using real-time data augmentation.\n"
          ],
          "name": "stdout"
        }
      ]
    },
    {
      "cell_type": "code",
      "metadata": {
        "colab_type": "code",
        "outputId": "84a7f5f7-4c1e-4dca-faa2-c890a1b5fd84",
        "id": "2JpW1yC99n9w",
        "colab": {
          "base_uri": "https://localhost:8080/",
          "height": 1000
        }
      },
      "source": [
        "#Compute quantities required for featurewise normalization\n",
        "    # (std, mean, and principal components if ZCA whitening is applied).\n",
        "    datagen.fit(x_train)\n",
        "\n",
        "    # Fit the model on the batches generated by datagen.flow().\n",
        "    model.fit_generator(datagen.flow(x_train, y_train, batch_size=batch_size),\n",
        "                        validation_data=(x_test, y_test),\n",
        "                        epochs=epochs,verbose=2,workers=4,\n",
        "                        callbacks=callbacks)\n",
        "\n",
        "# Score trained model.\n",
        "scores = model.evaluate(x_test, y_test, verbose=1)\n",
        "print('Test loss:', scores[0])\n",
        "print('Test accuracy:', scores[1])"
      ],
      "execution_count": 20,
      "outputs": [
        {
          "output_type": "stream",
          "text": [
            "WARNING:tensorflow:From /usr/local/lib/python3.6/dist-packages/tensorflow_core/python/ops/math_grad.py:1424: where (from tensorflow.python.ops.array_ops) is deprecated and will be removed in a future version.\n",
            "Instructions for updating:\n",
            "Use tf.where in 2.0, which has the same broadcast rule as np.where\n",
            "WARNING:tensorflow:From /usr/local/lib/python3.6/dist-packages/keras/backend/tensorflow_backend.py:1033: The name tf.assign_add is deprecated. Please use tf.compat.v1.assign_add instead.\n",
            "\n",
            "WARNING:tensorflow:From /usr/local/lib/python3.6/dist-packages/keras/backend/tensorflow_backend.py:1020: The name tf.assign is deprecated. Please use tf.compat.v1.assign instead.\n",
            "\n",
            "Epoch 1/50\n",
            "Learning rate:  0.001\n",
            " - 72s - loss: 1.6920 - acc: 0.4682 - val_loss: 1.3572 - val_acc: 0.6018\n",
            "\n",
            "Epoch 00001: val_acc improved from -inf to 0.60180, saving model to /content/saved_models/cifar10_ResNet14v1_model.001.h5\n",
            "Epoch 2/50\n",
            "Learning rate:  0.001\n",
            " - 60s - loss: 1.2763 - acc: 0.6215 - val_loss: 1.2330 - val_acc: 0.6468\n",
            "\n",
            "Epoch 00002: val_acc improved from 0.60180 to 0.64680, saving model to /content/saved_models/cifar10_ResNet14v1_model.002.h5\n",
            "Epoch 3/50\n",
            "Learning rate:  0.001\n",
            " - 60s - loss: 1.0981 - acc: 0.6845 - val_loss: 0.9692 - val_acc: 0.7350\n",
            "\n",
            "Epoch 00003: val_acc improved from 0.64680 to 0.73500, saving model to /content/saved_models/cifar10_ResNet14v1_model.003.h5\n",
            "Epoch 4/50\n",
            "Learning rate:  0.001\n",
            " - 60s - loss: 0.9671 - acc: 0.7313 - val_loss: 0.8662 - val_acc: 0.7709\n",
            "\n",
            "Epoch 00004: val_acc improved from 0.73500 to 0.77090, saving model to /content/saved_models/cifar10_ResNet14v1_model.004.h5\n",
            "Epoch 5/50\n",
            "Learning rate:  0.001\n",
            " - 60s - loss: 0.8908 - acc: 0.7582 - val_loss: 0.8415 - val_acc: 0.7801\n",
            "\n",
            "Epoch 00005: val_acc improved from 0.77090 to 0.78010, saving model to /content/saved_models/cifar10_ResNet14v1_model.005.h5\n",
            "Epoch 6/50\n",
            "Learning rate:  0.001\n",
            " - 60s - loss: 0.8272 - acc: 0.7792 - val_loss: 0.8020 - val_acc: 0.7892\n",
            "\n",
            "Epoch 00006: val_acc improved from 0.78010 to 0.78920, saving model to /content/saved_models/cifar10_ResNet14v1_model.006.h5\n",
            "Epoch 7/50\n",
            "Learning rate:  0.001\n",
            " - 60s - loss: 0.7832 - acc: 0.7968 - val_loss: 0.7386 - val_acc: 0.8147\n",
            "\n",
            "Epoch 00007: val_acc improved from 0.78920 to 0.81470, saving model to /content/saved_models/cifar10_ResNet14v1_model.007.h5\n",
            "Epoch 8/50\n",
            "Learning rate:  0.001\n",
            " - 60s - loss: 0.7511 - acc: 0.8072 - val_loss: 0.7682 - val_acc: 0.8047\n",
            "\n",
            "Epoch 00008: val_acc did not improve from 0.81470\n",
            "Epoch 9/50\n",
            "Learning rate:  0.001\n",
            " - 60s - loss: 0.7225 - acc: 0.8175 - val_loss: 0.7254 - val_acc: 0.8232\n",
            "\n",
            "Epoch 00009: val_acc improved from 0.81470 to 0.82320, saving model to /content/saved_models/cifar10_ResNet14v1_model.009.h5\n",
            "Epoch 10/50\n",
            "Learning rate:  0.001\n",
            " - 60s - loss: 0.6956 - acc: 0.8262 - val_loss: 0.7474 - val_acc: 0.8129\n",
            "\n",
            "Epoch 00010: val_acc did not improve from 0.82320\n",
            "Epoch 11/50\n",
            "Learning rate:  0.001\n",
            " - 59s - loss: 0.6799 - acc: 0.8312 - val_loss: 0.6610 - val_acc: 0.8401\n",
            "\n",
            "Epoch 00011: val_acc improved from 0.82320 to 0.84010, saving model to /content/saved_models/cifar10_ResNet14v1_model.011.h5\n",
            "Epoch 12/50\n",
            "Learning rate:  0.0001\n",
            " - 60s - loss: 0.5843 - acc: 0.8669 - val_loss: 0.5971 - val_acc: 0.8639\n",
            "\n",
            "Epoch 00012: val_acc improved from 0.84010 to 0.86390, saving model to /content/saved_models/cifar10_ResNet14v1_model.012.h5\n",
            "Epoch 13/50\n",
            "Learning rate:  0.0001\n",
            " - 60s - loss: 0.5534 - acc: 0.8753 - val_loss: 0.5719 - val_acc: 0.8720\n",
            "\n",
            "Epoch 00013: val_acc improved from 0.86390 to 0.87200, saving model to /content/saved_models/cifar10_ResNet14v1_model.013.h5\n",
            "Epoch 14/50\n",
            "Learning rate:  0.0001\n",
            " - 60s - loss: 0.5388 - acc: 0.8788 - val_loss: 0.5584 - val_acc: 0.8769\n",
            "\n",
            "Epoch 00014: val_acc improved from 0.87200 to 0.87690, saving model to /content/saved_models/cifar10_ResNet14v1_model.014.h5\n",
            "Epoch 15/50\n",
            "Learning rate:  0.0001\n",
            " - 60s - loss: 0.5264 - acc: 0.8819 - val_loss: 0.5700 - val_acc: 0.8718\n",
            "\n",
            "Epoch 00015: val_acc did not improve from 0.87690\n",
            "Epoch 16/50\n",
            "Learning rate:  0.0001\n",
            " - 60s - loss: 0.5164 - acc: 0.8844 - val_loss: 0.5579 - val_acc: 0.8741\n",
            "\n",
            "Epoch 00016: val_acc did not improve from 0.87690\n",
            "Epoch 17/50\n",
            "Learning rate:  0.0001\n",
            " - 59s - loss: 0.5070 - acc: 0.8874 - val_loss: 0.5416 - val_acc: 0.8796\n",
            "\n",
            "Epoch 00017: val_acc improved from 0.87690 to 0.87960, saving model to /content/saved_models/cifar10_ResNet14v1_model.017.h5\n",
            "Epoch 18/50\n",
            "Learning rate:  0.0001\n",
            " - 59s - loss: 0.5020 - acc: 0.8893 - val_loss: 0.5533 - val_acc: 0.8769\n",
            "\n",
            "Epoch 00018: val_acc did not improve from 0.87960\n",
            "Epoch 19/50\n",
            "Learning rate:  0.0001\n",
            " - 59s - loss: 0.4926 - acc: 0.8908 - val_loss: 0.5616 - val_acc: 0.8759\n",
            "\n",
            "Epoch 00019: val_acc did not improve from 0.87960\n",
            "Epoch 20/50\n",
            "Learning rate:  0.0001\n",
            " - 60s - loss: 0.4849 - acc: 0.8937 - val_loss: 0.5366 - val_acc: 0.8822\n",
            "\n",
            "Epoch 00020: val_acc improved from 0.87960 to 0.88220, saving model to /content/saved_models/cifar10_ResNet14v1_model.020.h5\n",
            "Epoch 21/50\n",
            "Learning rate:  0.0001\n",
            " - 60s - loss: 0.4777 - acc: 0.8948 - val_loss: 0.5322 - val_acc: 0.8816\n",
            "\n",
            "Epoch 00021: val_acc did not improve from 0.88220\n",
            "Epoch 22/50\n",
            "Learning rate:  0.0001\n",
            " - 59s - loss: 0.4739 - acc: 0.8947 - val_loss: 0.5482 - val_acc: 0.8756\n",
            "\n",
            "Epoch 00022: val_acc did not improve from 0.88220\n",
            "Epoch 23/50\n",
            "Learning rate:  0.0001\n",
            " - 60s - loss: 0.4680 - acc: 0.8959 - val_loss: 0.5187 - val_acc: 0.8849\n",
            "\n",
            "Epoch 00023: val_acc improved from 0.88220 to 0.88490, saving model to /content/saved_models/cifar10_ResNet14v1_model.023.h5\n",
            "Epoch 24/50\n",
            "Learning rate:  0.0001\n",
            " - 60s - loss: 0.4574 - acc: 0.9009 - val_loss: 0.5220 - val_acc: 0.8825\n",
            "\n",
            "Epoch 00024: val_acc did not improve from 0.88490\n",
            "Epoch 25/50\n",
            "Learning rate:  0.0001\n",
            " - 60s - loss: 0.4548 - acc: 0.9000 - val_loss: 0.5273 - val_acc: 0.8839\n",
            "\n",
            "Epoch 00025: val_acc did not improve from 0.88490\n",
            "Epoch 26/50\n",
            "Learning rate:  0.0001\n",
            " - 60s - loss: 0.4474 - acc: 0.9021 - val_loss: 0.5213 - val_acc: 0.8848\n",
            "\n",
            "Epoch 00026: val_acc did not improve from 0.88490\n",
            "Epoch 27/50\n",
            "Learning rate:  0.0001\n",
            " - 60s - loss: 0.4443 - acc: 0.9027 - val_loss: 0.5071 - val_acc: 0.8860\n",
            "\n",
            "Epoch 00027: val_acc improved from 0.88490 to 0.88600, saving model to /content/saved_models/cifar10_ResNet14v1_model.027.h5\n",
            "Epoch 28/50\n",
            "Learning rate:  0.0001\n",
            " - 59s - loss: 0.4422 - acc: 0.9023 - val_loss: 0.5169 - val_acc: 0.8858\n",
            "\n",
            "Epoch 00028: val_acc did not improve from 0.88600\n",
            "Epoch 29/50\n",
            "Learning rate:  0.0001\n",
            " - 60s - loss: 0.4340 - acc: 0.9052 - val_loss: 0.5090 - val_acc: 0.8868\n",
            "\n",
            "Epoch 00029: val_acc improved from 0.88600 to 0.88680, saving model to /content/saved_models/cifar10_ResNet14v1_model.029.h5\n",
            "Epoch 30/50\n",
            "Learning rate:  0.0001\n",
            " - 60s - loss: 0.4276 - acc: 0.9058 - val_loss: 0.5088 - val_acc: 0.8854\n",
            "\n",
            "Epoch 00030: val_acc did not improve from 0.88680\n",
            "Epoch 31/50\n",
            "Learning rate:  0.0001\n",
            " - 60s - loss: 0.4251 - acc: 0.9078 - val_loss: 0.5016 - val_acc: 0.8889\n",
            "\n",
            "Epoch 00031: val_acc improved from 0.88680 to 0.88890, saving model to /content/saved_models/cifar10_ResNet14v1_model.031.h5\n",
            "Epoch 32/50\n",
            "Learning rate:  0.0001\n",
            " - 60s - loss: 0.4219 - acc: 0.9092 - val_loss: 0.5191 - val_acc: 0.8853\n",
            "\n",
            "Epoch 00032: val_acc did not improve from 0.88890\n",
            "Epoch 33/50\n",
            "Learning rate:  0.0001\n",
            " - 59s - loss: 0.4154 - acc: 0.9104 - val_loss: 0.5139 - val_acc: 0.8838\n",
            "\n",
            "Epoch 00033: val_acc did not improve from 0.88890\n",
            "Epoch 34/50\n",
            "Learning rate:  0.0001\n",
            " - 59s - loss: 0.4092 - acc: 0.9116 - val_loss: 0.5026 - val_acc: 0.8883\n",
            "\n",
            "Epoch 00034: val_acc did not improve from 0.88890\n",
            "Epoch 35/50\n",
            "Learning rate:  0.0001\n",
            " - 60s - loss: 0.4045 - acc: 0.9127 - val_loss: 0.5008 - val_acc: 0.8901\n",
            "\n",
            "Epoch 00035: val_acc improved from 0.88890 to 0.89010, saving model to /content/saved_models/cifar10_ResNet14v1_model.035.h5\n",
            "Epoch 36/50\n",
            "Learning rate:  0.0001\n",
            " - 60s - loss: 0.4010 - acc: 0.9126 - val_loss: 0.4866 - val_acc: 0.8901\n",
            "\n",
            "Epoch 00036: val_acc did not improve from 0.89010\n",
            "Epoch 37/50\n",
            "Learning rate:  0.0001\n",
            " - 60s - loss: 0.3986 - acc: 0.9150 - val_loss: 0.4902 - val_acc: 0.8929\n",
            "\n",
            "Epoch 00037: val_acc improved from 0.89010 to 0.89290, saving model to /content/saved_models/cifar10_ResNet14v1_model.037.h5\n",
            "Epoch 38/50\n",
            "Learning rate:  0.0001\n",
            " - 60s - loss: 0.3982 - acc: 0.9141 - val_loss: 0.4888 - val_acc: 0.8920\n",
            "\n",
            "Epoch 00038: val_acc did not improve from 0.89290\n",
            "Epoch 39/50\n",
            "Learning rate:  0.0001\n",
            " - 60s - loss: 0.3934 - acc: 0.9147 - val_loss: 0.4801 - val_acc: 0.8946\n",
            "\n",
            "Epoch 00039: val_acc improved from 0.89290 to 0.89460, saving model to /content/saved_models/cifar10_ResNet14v1_model.039.h5\n",
            "Epoch 40/50\n",
            "Learning rate:  0.0001\n",
            " - 60s - loss: 0.3906 - acc: 0.9148 - val_loss: 0.4771 - val_acc: 0.8954\n",
            "\n",
            "Epoch 00040: val_acc improved from 0.89460 to 0.89540, saving model to /content/saved_models/cifar10_ResNet14v1_model.040.h5\n",
            "Epoch 41/50\n",
            "Learning rate:  0.0001\n",
            " - 60s - loss: 0.3848 - acc: 0.9156 - val_loss: 0.4999 - val_acc: 0.8886\n",
            "\n",
            "Epoch 00041: val_acc did not improve from 0.89540\n",
            "Epoch 42/50\n",
            "Learning rate:  0.0001\n",
            " - 60s - loss: 0.3795 - acc: 0.9191 - val_loss: 0.4800 - val_acc: 0.8942\n",
            "\n",
            "Epoch 00042: val_acc did not improve from 0.89540\n",
            "Epoch 43/50\n",
            "Learning rate:  0.0001\n",
            " - 60s - loss: 0.3760 - acc: 0.9202 - val_loss: 0.4866 - val_acc: 0.8927\n",
            "\n",
            "Epoch 00043: val_acc did not improve from 0.89540\n",
            "Epoch 44/50\n",
            "Learning rate:  0.0001\n",
            " - 60s - loss: 0.3771 - acc: 0.9185 - val_loss: 0.5012 - val_acc: 0.8887\n",
            "\n",
            "Epoch 00044: val_acc did not improve from 0.89540\n",
            "Epoch 45/50\n",
            "Learning rate:  0.0001\n",
            " - 59s - loss: 0.3748 - acc: 0.9197 - val_loss: 0.4926 - val_acc: 0.8939\n",
            "\n",
            "Epoch 00045: val_acc did not improve from 0.89540\n",
            "Epoch 46/50\n",
            "Learning rate:  0.0001\n",
            " - 60s - loss: 0.3678 - acc: 0.9219 - val_loss: 0.4789 - val_acc: 0.8948\n",
            "\n",
            "Epoch 00046: val_acc did not improve from 0.89540\n",
            "Epoch 47/50\n",
            "Learning rate:  0.0001\n",
            " - 59s - loss: 0.3653 - acc: 0.9228 - val_loss: 0.4790 - val_acc: 0.8916\n",
            "\n",
            "Epoch 00047: val_acc did not improve from 0.89540\n",
            "Epoch 48/50\n",
            "Learning rate:  0.0001\n",
            " - 59s - loss: 0.3597 - acc: 0.9230 - val_loss: 0.4819 - val_acc: 0.8917\n",
            "\n",
            "Epoch 00048: val_acc did not improve from 0.89540\n",
            "Epoch 49/50\n",
            "Learning rate:  0.0001\n",
            " - 60s - loss: 0.3584 - acc: 0.9246 - val_loss: 0.4844 - val_acc: 0.8919\n",
            "\n",
            "Epoch 00049: val_acc did not improve from 0.89540\n",
            "Epoch 50/50\n",
            "Learning rate:  0.0001\n",
            " - 60s - loss: 0.3562 - acc: 0.9236 - val_loss: 0.4827 - val_acc: 0.8931\n",
            "\n",
            "Epoch 00050: val_acc did not improve from 0.89540\n",
            "10000/10000 [==============================] - 4s 415us/step\n",
            "Test loss: 0.48270701546669004\n",
            "Test accuracy: 0.8931\n"
          ],
          "name": "stdout"
        }
      ]
    },
    {
      "cell_type": "code",
      "metadata": {
        "id": "THS2fTwTVvzK",
        "colab_type": "code",
        "colab": {}
      },
      "source": [
        "from keras.applications.vgg16 import VGG16, preprocess_input, decode_predictions\n",
        "from keras.preprocessing import image\n",
        "import numpy as np\n",
        "import cv2\n",
        "from keras import backend as K\n",
        "import os\n",
        "import matplotlib.pyplot as plt\n",
        "from keras.models import Model\n",
        "from keras.datasets import cifar10\n",
        "import numpy as np\n",
        "import os\n",
        "import keras\n",
        "%matplotlib inline\n",
        "from keras.datasets import cifar10\n",
        "\n",
        "from google.colab.patches import cv2_imshow\n",
        "\n",
        "\n"
      ],
      "execution_count": 0,
      "outputs": []
    },
    {
      "cell_type": "code",
      "metadata": {
        "id": "LvsaAIRDg_Xr",
        "colab_type": "code",
        "colab": {
          "base_uri": "https://localhost:8080/",
          "height": 867
        },
        "outputId": "cea7bd0f-84c0-4ff5-de01-cca4b4b24481"
      },
      "source": [
        "\n",
        "(x_train_v, y_train_v), (x_test_v, y_test_v) = cifar10.load_data()\n",
        "print(x_train_v[0])\n",
        "x = np.expand_dims(x_train[0], axis=0)"
      ],
      "execution_count": 23,
      "outputs": [
        {
          "output_type": "stream",
          "text": [
            "[[[ 59  62  63]\n",
            "  [ 43  46  45]\n",
            "  [ 50  48  43]\n",
            "  ...\n",
            "  [158 132 108]\n",
            "  [152 125 102]\n",
            "  [148 124 103]]\n",
            "\n",
            " [[ 16  20  20]\n",
            "  [  0   0   0]\n",
            "  [ 18   8   0]\n",
            "  ...\n",
            "  [123  88  55]\n",
            "  [119  83  50]\n",
            "  [122  87  57]]\n",
            "\n",
            " [[ 25  24  21]\n",
            "  [ 16   7   0]\n",
            "  [ 49  27   8]\n",
            "  ...\n",
            "  [118  84  50]\n",
            "  [120  84  50]\n",
            "  [109  73  42]]\n",
            "\n",
            " ...\n",
            "\n",
            " [[208 170  96]\n",
            "  [201 153  34]\n",
            "  [198 161  26]\n",
            "  ...\n",
            "  [160 133  70]\n",
            "  [ 56  31   7]\n",
            "  [ 53  34  20]]\n",
            "\n",
            " [[180 139  96]\n",
            "  [173 123  42]\n",
            "  [186 144  30]\n",
            "  ...\n",
            "  [184 148  94]\n",
            "  [ 97  62  34]\n",
            "  [ 83  53  34]]\n",
            "\n",
            " [[177 144 116]\n",
            "  [168 129  94]\n",
            "  [179 142  87]\n",
            "  ...\n",
            "  [216 184 140]\n",
            "  [151 118  84]\n",
            "  [123  92  72]]]\n"
          ],
          "name": "stdout"
        }
      ]
    },
    {
      "cell_type": "code",
      "metadata": {
        "id": "Sg9FkshGhK9x",
        "colab_type": "code",
        "colab": {}
      },
      "source": [
        "\n",
        "import cv2\n",
        "from google.colab.patches import cv2_imshow\n",
        "import matplotlib.pyplot as plt\n",
        "%matplotlib inline"
      ],
      "execution_count": 0,
      "outputs": []
    },
    {
      "cell_type": "code",
      "metadata": {
        "id": "FWkBIlurhUIc",
        "colab_type": "code",
        "colab": {
          "base_uri": "https://localhost:8080/",
          "height": 35
        },
        "outputId": "2544cd8e-7775-4f9c-beb5-c15335f3a9e8"
      },
      "source": [
        "saved_model =  '/content/saved_models/cifar10_ResNet14v1_model.040.h5'\n",
        "#saved_model = \"\"/content/saved_models/cifar10_ResNet14v1_model.040.h5'\n",
        "model = keras.models.load_model(saved_model)\n",
        "\n",
        "preds = model.predict(x)\n",
        "class_idx = np.argmax(preds[0])\n",
        "print(class_idx)\n",
        "class_output = model.output[:, class_idx]\n",
        "last_conv_layer = model.get_layer(\"conv2d_75\")"
      ],
      "execution_count": 25,
      "outputs": [
        {
          "output_type": "stream",
          "text": [
            "8\n"
          ],
          "name": "stdout"
        }
      ]
    },
    {
      "cell_type": "code",
      "metadata": {
        "id": "RglkmMKmiD0l",
        "colab_type": "code",
        "colab": {
          "base_uri": "https://localhost:8080/",
          "height": 87
        },
        "outputId": "31559d25-ca23-4c09-9889-4500c2968fd2"
      },
      "source": [
        "\n",
        "grads = K.gradients(class_output, last_conv_layer.output)[0]\n",
        "print(grads.shape)\n",
        "pooled_grads = K.mean(grads, axis=(0, 1, 2))\n",
        "print(pooled_grads.shape)\n",
        "iterate = K.function([model.input], [pooled_grads, last_conv_layer.output[0]])\n",
        "\n",
        "pooled_grads_value, conv_layer_output_value = iterate([x])\n",
        "print(conv_layer_output_value.shape)\n",
        "\n",
        "last_conv_layer_num_filters = last_conv_layer.output_shape[3]\n",
        "print(last_conv_layer_num_filters)\n",
        "for i in range(last_conv_layer_num_filters):\n",
        "  conv_layer_output_value[:, :, i] *= pooled_grads_value[i]"
      ],
      "execution_count": 26,
      "outputs": [
        {
          "output_type": "stream",
          "text": [
            "(?, 8, 8, 128)\n",
            "(128,)\n",
            "(8, 8, 128)\n",
            "128\n"
          ],
          "name": "stdout"
        }
      ]
    },
    {
      "cell_type": "code",
      "metadata": {
        "id": "WVRK2Y9riMJ_",
        "colab_type": "code",
        "colab": {
          "base_uri": "https://localhost:8080/",
          "height": 52
        },
        "outputId": "0d27f815-0032-4822-f22d-2f6b203cde6c"
      },
      "source": [
        "\n",
        "heatmap = np.mean(conv_layer_output_value, axis = -1)\n",
        "print(conv_layer_output_value.shape)\n",
        "print(heatmap.shape)\n",
        "heatmap = np.maximum(heatmap, 0)\n",
        "heatmap /= np.max(heatmap)"
      ],
      "execution_count": 27,
      "outputs": [
        {
          "output_type": "stream",
          "text": [
            "(8, 8, 128)\n",
            "(8, 8)\n"
          ],
          "name": "stdout"
        }
      ]
    },
    {
      "cell_type": "code",
      "metadata": {
        "id": "NFOrLHMjiQrk",
        "colab_type": "code",
        "colab": {
          "base_uri": "https://localhost:8080/",
          "height": 657
        },
        "outputId": "0d9189e6-b3c3-4ee0-d113-66cd208567c7"
      },
      "source": [
        "\n",
        "for i in range(10):\n",
        "  img1 = x_test_v[i]\n",
        "  img1 = cv2.resize(img1, dsize=(32, 32), interpolation=cv2.INTER_CUBIC)\n",
        "  heatmap = cv2.resize(heatmap, (img1.shape[1], img1.shape[0]))\n",
        "  heatmap = np.uint8(255 * heatmap)\n",
        "  heatmap = cv2.applyColorMap(heatmap, cv2.COLORMAP_JET)\n",
        "  superimposed_img = cv2.addWeighted(img1, 0.5, heatmap, 0.5, 0)\n",
        "  cv2_imshow(img1)\n",
        "  cv2_imshow(superimposed_img)"
      ],
      "execution_count": 28,
      "outputs": [
        {
          "output_type": "display_data",
          "data": {
            "image/png": "[encoded data removed]",
            "text/plain": [
              "<PIL.Image.Image image mode=RGB size=32x32 at 0x7FC4CA3BFB70>"
            ]
          },
          "metadata": {
            "tags": []
          }
        },
        {
          "output_type": "display_data",
          "data": {
            "image/png": "[encoded data removed]",
            "text/plain": [
              "<PIL.Image.Image image mode=RGB size=32x32 at 0x7FC4CA3BF240>"
            ]
          },
          "metadata": {
            "tags": []
          }
        },
        {
          "output_type": "display_data",
          "data": {
            "image/png": "[encoded data removed]",
            "text/plain": [
              "<PIL.Image.Image image mode=RGB size=32x32 at 0x7FC4CA3BFBA8>"
            ]
          },
          "metadata": {
            "tags": []
          }
        },
        {
          "output_type": "display_data",
          "data": {
            "image/png": "[encoded data removed]",
            "text/plain": [
              "<PIL.Image.Image image mode=RGB size=32x32 at 0x7FC4CA3BF940>"
            ]
          },
          "metadata": {
            "tags": []
          }
        },
        {
          "output_type": "display_data",
          "data": {
            "image/png": "[encoded data removed]",
            "text/plain": [
              "<PIL.Image.Image image mode=RGB size=32x32 at 0x7FC4CA3BF240>"
            ]
          },
          "metadata": {
            "tags": []
          }
        },
        {
          "output_type": "display_data",
          "data": {
            "image/png": "[encoded data removed]",
            "text/plain": [
              "<PIL.Image.Image image mode=RGB size=32x32 at 0x7FC4CA3BFBA8>"
            ]
          },
          "metadata": {
            "tags": []
          }
        },
        {
          "output_type": "display_data",
          "data": {
            "image/png": "[encoded data removed]",
            "text/plain": [
              "<PIL.Image.Image image mode=RGB size=32x32 at 0x7FC4CA3BF940>"
            ]
          },
          "metadata": {
            "tags": []
          }
        },
        {
          "output_type": "display_data",
          "data": {
            "image/png": "[encoded data removed]",
            "text/plain": [
              "<PIL.Image.Image image mode=RGB size=32x32 at 0x7FC4C937B9E8>"
            ]
          },
          "metadata": {
            "tags": []
          }
        },
        {
          "output_type": "display_data",
          "data": {
            "image/png": "[encoded data removed]",
            "text/plain": [
              "<PIL.Image.Image image mode=RGB size=32x32 at 0x7FC4C936F3C8>"
            ]
          },
          "metadata": {
            "tags": []
          }
        },
        {
          "output_type": "display_data",
          "data": {
            "image/png": "[encoded data removed]",
            "text/plain": [
              "<PIL.Image.Image image mode=RGB size=32x32 at 0x7FC4CA3BFBA8>"
            ]
          },
          "metadata": {
            "tags": []
          }
        },
        {
          "output_type": "display_data",
          "data": {
            "image/png": "[encoded data removed]",
            "text/plain": [
              "<PIL.Image.Image image mode=RGB size=32x32 at 0x7FC4CA3BFB70>"
            ]
          },
          "metadata": {
            "tags": []
          }
        },
        {
          "output_type": "display_data",
          "data": {
            "image/png": "[encoded data removed]",
            "text/plain": [
              "<PIL.Image.Image image mode=RGB size=32x32 at 0x7FC4C937B9E8>"
            ]
          },
          "metadata": {
            "tags": []
          }
        },
        {
          "output_type": "display_data",
          "data": {
            "image/png": "[encoded data removed]",
            "text/plain": [
              "<PIL.Image.Image image mode=RGB size=32x32 at 0x7FC4CA3BFBA8>"
            ]
          },
          "metadata": {
            "tags": []
          }
        },
        {
          "output_type": "display_data",
          "data": {
            "image/png": "[encoded data removed]",
            "text/plain": [
              "<PIL.Image.Image image mode=RGB size=32x32 at 0x7FC4C937BA20>"
            ]
          },
          "metadata": {
            "tags": []
          }
        },
        {
          "output_type": "display_data",
          "data": {
            "image/png": "[encoded data removed]",
            "text/plain": [
              "<PIL.Image.Image image mode=RGB size=32x32 at 0x7FC4C936F3C8>"
            ]
          },
          "metadata": {
            "tags": []
          }
        },
        {
          "output_type": "display_data",
          "data": {
            "image/png": "[encoded data removed]",
            "text/plain": [
              "<PIL.Image.Image image mode=RGB size=32x32 at 0x7FC4CA3BFB70>"
            ]
          },
          "metadata": {
            "tags": []
          }
        },
        {
          "output_type": "display_data",
          "data": {
            "image/png": "[encoded data removed]",
            "text/plain": [
              "<PIL.Image.Image image mode=RGB size=32x32 at 0x7FC4CA3BF940>"
            ]
          },
          "metadata": {
            "tags": []
          }
        },
        {
          "output_type": "display_data",
          "data": {
            "image/png": "[encoded data removed]",
            "text/plain": [
              "<PIL.Image.Image image mode=RGB size=32x32 at 0x7FC4CA3BFBA8>"
            ]
          },
          "metadata": {
            "tags": []
          }
        },
        {
          "output_type": "display_data",
          "data": {
            "image/png": "[encoded data removed]",
            "text/plain": [
              "<PIL.Image.Image image mode=RGB size=32x32 at 0x7FC4CA3BFB70>"
            ]
          },
          "metadata": {
            "tags": []
          }
        },
        {
          "output_type": "display_data",
          "data": {
            "image/png": "[encoded data removed]",
            "text/plain": [
              "<PIL.Image.Image image mode=RGB size=32x32 at 0x7FC4CA3BF940>"
            ]
          },
          "metadata": {
            "tags": []
          }
        }
      ]
    }
  ]
}